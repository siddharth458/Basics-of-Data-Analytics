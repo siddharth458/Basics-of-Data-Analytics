{
 "cells": [
  {
   "cell_type": "code",
   "execution_count": 3,
   "id": "66cefec7",
   "metadata": {},
   "outputs": [
    {
     "name": "stdout",
     "output_type": "stream",
     "text": [
      "5.8\n"
     ]
    }
   ],
   "source": [
    "import numpy as np\n",
    "\n",
    "\n",
    "arr1 = np.array([4, 2, 8, 10, 5])\n",
    "\n",
    "print(np.mean(arr1))"
   ]
  },
  {
   "cell_type": "code",
   "execution_count": 4,
   "id": "e47f09bb",
   "metadata": {},
   "outputs": [],
   "source": [
    "import pandas as pd"
   ]
  },
  {
   "cell_type": "code",
   "execution_count": 8,
   "id": "65c0dcba",
   "metadata": {},
   "outputs": [],
   "source": [
    "scores = pd.read_csv('http://data-analytics.zybooks.com/ExamScores.csv')\n"
   ]
  },
  {
   "cell_type": "code",
   "execution_count": 4,
   "id": "a69e4fb7",
   "metadata": {},
   "outputs": [
    {
     "name": "stdout",
     "output_type": "stream",
     "text": [
      "   Exam1  Exam2  Exam3  Exam4\n",
      "0    100     66     74     68\n",
      "1     76     84    100     75\n",
      "2     89     80    100     95\n",
      "3     83     76     91     74\n",
      "4     86     99     78     78\n"
     ]
    }
   ],
   "source": [
    "print(scores.head())"
   ]
  },
  {
   "cell_type": "code",
   "execution_count": 6,
   "id": "3fcf3134",
   "metadata": {},
   "outputs": [
    {
     "name": "stdout",
     "output_type": "stream",
     "text": [
      "Exam1    82.70\n",
      "Exam2    79.40\n",
      "Exam3    73.34\n",
      "Exam4    76.50\n",
      "dtype: float64\n"
     ]
    }
   ],
   "source": [
    "print(scores.mean())"
   ]
  },
  {
   "cell_type": "code",
   "execution_count": 8,
   "id": "e51626a1",
   "metadata": {},
   "outputs": [
    {
     "name": "stdout",
     "output_type": "stream",
     "text": [
      "Exam1    82.7\n",
      "dtype: float64\n"
     ]
    }
   ],
   "source": [
    "print(scores[['Exam1']].mean())"
   ]
  },
  {
   "cell_type": "code",
   "execution_count": 10,
   "id": "d7d1a78c",
   "metadata": {},
   "outputs": [
    {
     "name": "stdout",
     "output_type": "stream",
     "text": [
      "Exam1    82.7\n",
      "Exam2    79.4\n",
      "dtype: float64\n"
     ]
    }
   ],
   "source": [
    "print(scores[['Exam1','Exam2']].mean())"
   ]
  },
  {
   "cell_type": "code",
   "execution_count": 12,
   "id": "17a06588",
   "metadata": {},
   "outputs": [
    {
     "name": "stdout",
     "output_type": "stream",
     "text": [
      "Exam1    83.0\n",
      "Exam2    79.5\n",
      "Exam3    74.5\n",
      "Exam4    75.0\n",
      "dtype: float64\n"
     ]
    }
   ],
   "source": [
    "print(scores.median())"
   ]
  },
  {
   "cell_type": "code",
   "execution_count": 14,
   "id": "afadb753",
   "metadata": {},
   "outputs": [
    {
     "name": "stdout",
     "output_type": "stream",
     "text": [
      "Exam1    83.0\n",
      "dtype: float64\n"
     ]
    }
   ],
   "source": [
    "print(scores[['Exam1']].median())"
   ]
  },
  {
   "cell_type": "code",
   "execution_count": 16,
   "id": "77a6b2ed",
   "metadata": {},
   "outputs": [],
   "source": [
    "import scipy.stats as st"
   ]
  },
  {
   "cell_type": "code",
   "execution_count": 19,
   "id": "100e3205",
   "metadata": {},
   "outputs": [
    {
     "name": "stdout",
     "output_type": "stream",
     "text": [
      "[[ 4  8  2]\n",
      " [ 2  5 10]\n",
      " [ 2  1 10]]\n"
     ]
    }
   ],
   "source": [
    "arr1 = np.array([[4, 8, 2], [2, 5, 10], [2, 1, 10]])\n",
    "print (arr1)"
   ]
  },
  {
   "cell_type": "code",
   "execution_count": 21,
   "id": "5f37164d",
   "metadata": {},
   "outputs": [
    {
     "data": {
      "text/plain": [
       "ModeResult(mode=array([[ 2,  1, 10]]), count=array([[2, 1, 2]]))"
      ]
     },
     "execution_count": 21,
     "metadata": {},
     "output_type": "execute_result"
    }
   ],
   "source": [
    "st.mode(arr1)"
   ]
  },
  {
   "cell_type": "code",
   "execution_count": 23,
   "id": "1b4be861",
   "metadata": {},
   "outputs": [
    {
     "name": "stdout",
     "output_type": "stream",
     "text": [
      "   Exam1  Exam2  Exam3  Exam4\n",
      "0     78   84.0  100.0   74.0\n",
      "1     83  100.0    NaN   75.0\n",
      "2     89    NaN    NaN    NaN\n"
     ]
    }
   ],
   "source": [
    "print(scores.mode())"
   ]
  },
  {
   "cell_type": "code",
   "execution_count": 25,
   "id": "5c7043f7",
   "metadata": {},
   "outputs": [
    {
     "name": "stdout",
     "output_type": "stream",
     "text": [
      "   Exam1\n",
      "0     78\n",
      "1     83\n",
      "2     89\n"
     ]
    }
   ],
   "source": [
    "print(scores[['Exam1']].mode())"
   ]
  },
  {
   "cell_type": "code",
   "execution_count": 7,
   "id": "a2209a38",
   "metadata": {},
   "outputs": [
    {
     "name": "stdout",
     "output_type": "stream",
     "text": [
      "   Santa Monica CA  Boise ID  Tucson AZ  Detroit MI  Pittsburgh PA  Orlando FL\n",
      "0            10230      1600       2495        3195           2480        2242\n",
      "1            10000      1500       2200        2695           2435        2000\n",
      "2             9000      1029       2150        2595           2405        1912\n",
      "3             8500      1025       1800        2495           2350        1895\n",
      "4             8250       980       1650        2495           2320        1800\n",
      "5             8000       950       1600        1675           2316        1765\n",
      "6             7000       950       1500        1525           2305        1685\n",
      "7             6500       925       1500        1480           2290        1670\n",
      "8             6000       925       1500        1410           2275        1665\n",
      "9             5815       900       1500        1400           2265        1625\n"
     ]
    }
   ],
   "source": [
    "rent = pd.read_csv('http://data-analytics.zybooks.com/rent.csv')\n",
    "print(rent)"
   ]
  },
  {
   "cell_type": "code",
   "execution_count": 29,
   "id": "ebab8966",
   "metadata": {},
   "outputs": [
    {
     "name": "stdout",
     "output_type": "stream",
     "text": [
      "7929.5\n"
     ]
    }
   ],
   "source": [
    "print(rent['Santa Monica CA'].mean())"
   ]
  },
  {
   "cell_type": "code",
   "execution_count": 31,
   "id": "92e55591",
   "metadata": {},
   "outputs": [
    {
     "name": "stdout",
     "output_type": "stream",
     "text": [
      "Santa Monica CA    7929.5\n",
      "Boise ID           1078.4\n",
      "Tucson AZ          1789.5\n",
      "Detroit MI         2096.5\n",
      "Pittsburgh PA      2344.1\n",
      "Orlando FL         1825.9\n",
      "dtype: float64\n"
     ]
    }
   ],
   "source": [
    "print(rent.mean())"
   ]
  },
  {
   "cell_type": "code",
   "execution_count": null,
   "id": "8a1c2da3",
   "metadata": {},
   "outputs": [],
   "source": [
    "print(rent.median())"
   ]
  },
  {
   "cell_type": "code",
   "execution_count": 10,
   "id": "36c6d79d",
   "metadata": {},
   "outputs": [],
   "source": [
    "arr1 = np.array([10, 2, 5, 7, 3, 5])"
   ]
  },
  {
   "cell_type": "code",
   "execution_count": 12,
   "id": "1c06ef3a",
   "metadata": {},
   "outputs": [
    {
     "name": "stdout",
     "output_type": "stream",
     "text": [
      "2.6246692913372707\n"
     ]
    }
   ],
   "source": [
    "print(np.std(arr1))"
   ]
  },
  {
   "cell_type": "code",
   "execution_count": 15,
   "id": "7fba5247",
   "metadata": {},
   "outputs": [
    {
     "name": "stdout",
     "output_type": "stream",
     "text": [
      "6.88888888888889\n"
     ]
    }
   ],
   "source": [
    "print(np.var(arr1))"
   ]
  },
  {
   "cell_type": "code",
   "execution_count": 16,
   "id": "26b935c3",
   "metadata": {},
   "outputs": [],
   "source": [
    "scores = pd.read_csv('http://data-analytics.zybooks.com/ExamScores.csv')"
   ]
  },
  {
   "cell_type": "code",
   "execution_count": 18,
   "id": "1ac6aa85",
   "metadata": {},
   "outputs": [
    {
     "name": "stdout",
     "output_type": "stream",
     "text": [
      "Exam1     9.291756\n",
      "Exam2    14.332780\n",
      "Exam3    21.754296\n",
      "Exam4     8.056560\n",
      "dtype: float64\n"
     ]
    }
   ],
   "source": [
    "print(scores.std())"
   ]
  },
  {
   "cell_type": "code",
   "execution_count": 20,
   "id": "5dd833bb",
   "metadata": {},
   "outputs": [
    {
     "name": "stdout",
     "output_type": "stream",
     "text": [
      "Exam1    9.291756\n",
      "dtype: float64\n"
     ]
    }
   ],
   "source": [
    "print(scores[['Exam1']].std())"
   ]
  },
  {
   "cell_type": "code",
   "execution_count": 22,
   "id": "c07e37c6",
   "metadata": {},
   "outputs": [
    {
     "name": "stdout",
     "output_type": "stream",
     "text": [
      "Exam1     86.336735\n",
      "Exam2    205.428571\n",
      "Exam3    473.249388\n",
      "Exam4     64.908163\n",
      "dtype: float64\n"
     ]
    }
   ],
   "source": [
    "print(scores.var())"
   ]
  },
  {
   "cell_type": "code",
   "execution_count": 24,
   "id": "b1cdf6e3",
   "metadata": {},
   "outputs": [
    {
     "name": "stdout",
     "output_type": "stream",
     "text": [
      "Exam1    86.336735\n",
      "dtype: float64\n"
     ]
    }
   ],
   "source": [
    "print(scores[['Exam1']].var())"
   ]
  },
  {
   "cell_type": "code",
   "execution_count": 28,
   "id": "14e82e17",
   "metadata": {},
   "outputs": [],
   "source": [
    "arr2 =  np.array([2,3,4,5,6,100])"
   ]
  },
  {
   "cell_type": "code",
   "execution_count": 32,
   "id": "1a95cc3e",
   "metadata": {},
   "outputs": [
    {
     "data": {
      "text/plain": [
       "26.666666666666668"
      ]
     },
     "execution_count": 32,
     "metadata": {},
     "output_type": "execute_result"
    }
   ],
   "source": [
    "arr2= pd.Series(arr2)\n",
    "arr2.mad()"
   ]
  }
 ],
 "metadata": {
  "kernelspec": {
   "display_name": "Python 3 (ipykernel)",
   "language": "python",
   "name": "python3"
  },
  "language_info": {
   "codemirror_mode": {
    "name": "ipython",
    "version": 3
   },
   "file_extension": ".py",
   "mimetype": "text/x-python",
   "name": "python",
   "nbconvert_exporter": "python",
   "pygments_lexer": "ipython3",
   "version": "3.9.12"
  }
 },
 "nbformat": 4,
 "nbformat_minor": 5
}
